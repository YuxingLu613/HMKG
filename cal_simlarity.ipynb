{
 "cells": [
  {
   "cell_type": "code",
   "execution_count": 1,
   "metadata": {},
   "outputs": [],
   "source": [
    "import json"
   ]
  },
  {
   "cell_type": "code",
   "execution_count": 4,
   "metadata": {},
   "outputs": [],
   "source": [
    "with open(\"output/HMDB_embedding.json\",\"r\") as f:\n",
    "    HMDB_embedding=json.load(f)"
   ]
  },
  {
   "cell_type": "code",
   "execution_count": 8,
   "metadata": {},
   "outputs": [
    {
     "name": "stdout",
     "output_type": "stream",
     "text": [
      "0.14499474613027652\n"
     ]
    }
   ],
   "source": [
    "import numpy as np\n",
    "def entity_sim_calculate(node1,node2):\n",
    "    node1=HMDB_embedding[node1]\n",
    "    node2=HMDB_embedding[node2]\n",
    "    print(np.dot(node1, node2) / (np.linalg.norm(node1) * np.linalg.norm(node2)))\n",
    "\n",
    "entity_sim_calculate('HMDB0000168', 'HMDB0028955')"
   ]
  },
  {
   "cell_type": "code",
   "execution_count": null,
   "metadata": {},
   "outputs": [],
   "source": []
  }
 ],
 "metadata": {
  "kernelspec": {
   "display_name": "base",
   "language": "python",
   "name": "python3"
  },
  "language_info": {
   "codemirror_mode": {
    "name": "ipython",
    "version": 3
   },
   "file_extension": ".py",
   "mimetype": "text/x-python",
   "name": "python",
   "nbconvert_exporter": "python",
   "pygments_lexer": "ipython3",
   "version": "3.9.7"
  },
  "orig_nbformat": 4,
  "vscode": {
   "interpreter": {
    "hash": "636d013898e2908bc2cdf6f9212ff98235ca848e10505ff74142472a14ce00b0"
   }
  }
 },
 "nbformat": 4,
 "nbformat_minor": 2
}
